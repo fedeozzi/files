{
 "cells": [
  {
   "cell_type": "markdown",
   "id": "766aaa81-96e6-42dc-b29d-8216d2a7feec",
   "metadata": {},
   "source": [
    "## Example of querying the vLLM Inference server with Mistral-7b, Langchain and a custom Prompt"
   ]
  },
  {
   "cell_type": "markdown",
   "id": "e65a9bb1-b06e-4569-b1cf-c7cdcd65b5d9",
   "metadata": {},
   "source": [
    "### Set the Inference server url (replace with your own address)"
   ]
  },
  {
   "cell_type": "code",
   "execution_count": 32,
   "id": "32891d31-c38b-4d6d-a1ff-c31571685350",
   "metadata": {
    "tags": []
   },
   "outputs": [],
   "source": [
    "inference_server_url = \"https://mistral-instruct.dell-digital-assistant.svc.cluster.local\""
   ]
  },
  {
   "cell_type": "markdown",
   "id": "0022f3fb-ee50-40f2-b276-b8194668e49e",
   "metadata": {},
   "source": [
    "## Preparation"
   ]
  },
  {
   "cell_type": "code",
   "execution_count": 33,
   "id": "a16ed2e6",
   "metadata": {
    "tags": []
   },
   "outputs": [
    {
     "name": "stdout",
     "output_type": "stream",
     "text": [
      "\n",
      "\u001b[1m[\u001b[0m\u001b[34;49mnotice\u001b[0m\u001b[1;39;49m]\u001b[0m\u001b[39;49m A new release of pip available: \u001b[0m\u001b[31;49m22.2.2\u001b[0m\u001b[39;49m -> \u001b[0m\u001b[32;49m24.3.1\u001b[0m\n",
      "\u001b[1m[\u001b[0m\u001b[34;49mnotice\u001b[0m\u001b[1;39;49m]\u001b[0m\u001b[39;49m To update, run: \u001b[0m\u001b[32;49mpip install --upgrade pip\u001b[0m\n"
     ]
    }
   ],
   "source": [
    "!pip install -q langchain==0.1.9 openai==1.13.3"
   ]
  },
  {
   "cell_type": "code",
   "execution_count": 34,
   "id": "60bb3f0f-40b5-49a6-b493-5e361db0113e",
   "metadata": {
    "tags": []
   },
   "outputs": [],
   "source": [
    "# Imports\n",
    "from langchain.chains import ConversationChain\n",
    "from langchain.memory import ConversationBufferMemory\n",
    "from langchain_community.llms import VLLMOpenAI\n",
    "from langchain.callbacks.streaming_stdout import StreamingStdOutCallbackHandler\n",
    "from langchain.prompts import PromptTemplate\n",
    "import httpx"
   ]
  },
  {
   "cell_type": "markdown",
   "id": "472b2f3f-ac23-4531-984b-6e8357233992",
   "metadata": {},
   "source": [
    "#### Create the LLM instance"
   ]
  },
  {
   "cell_type": "code",
   "execution_count": 35,
   "id": "436585ae-6b33-4830-88d8-5dd627938271",
   "metadata": {
    "tags": []
   },
   "outputs": [],
   "source": [
    "# LLM definition\n",
    "llm = VLLMOpenAI(\n",
    "    openai_api_key=\"EMPTY\",\n",
    "    openai_api_base= f\"{inference_server_url}/v1\",\n",
    "    model_name=\"mistral-instruct\",\n",
    "    top_p=0.92,\n",
    "    temperature=0.01,\n",
    "    max_tokens=512,\n",
    "    presence_penalty=1.03,\n",
    "    streaming=True,\n",
    "    callbacks=[StreamingStdOutCallbackHandler()],\n",
    "    async_client=httpx.AsyncClient(verify=False),\n",
    "    http_client=httpx.Client(verify=False)\n",
    ")"
   ]
  },
  {
   "cell_type": "markdown",
   "id": "d211bd1f-3e55-41ce-b3bc-0ee5db689c66",
   "metadata": {},
   "source": [
    "#### Create the Prompt"
   ]
  },
  {
   "cell_type": "code",
   "execution_count": 36,
   "id": "fdd8bc4c-b353-4a51-a8b7-6cb348e19623",
   "metadata": {
    "tags": []
   },
   "outputs": [],
   "source": [
    "template=\"\"\"\n",
    "\n",
    "{history}\n",
    "{input}\n",
    "\n",
    "\"\"\"\n",
    "PROMPT = PromptTemplate(input_variables=[\"history\", \"input\"], template=template)"
   ]
  },
  {
   "cell_type": "markdown",
   "id": "17e36542-81a4-4eee-bcf8-f0dd5d9e3096",
   "metadata": {},
   "source": [
    "#### And finally some memory for the conversation"
   ]
  },
  {
   "cell_type": "code",
   "execution_count": 37,
   "id": "c0005da7-1386-42a4-9d20-456c5dcca2be",
   "metadata": {
    "tags": []
   },
   "outputs": [],
   "source": [
    "memory=ConversationBufferMemory()"
   ]
  },
  {
   "cell_type": "markdown",
   "id": "c240fd72-f910-4ba4-82dc-c5ebf278452b",
   "metadata": {
    "tags": []
   },
   "source": [
    "## First example, fully verbose mode"
   ]
  },
  {
   "cell_type": "markdown",
   "id": "af5cb39d-1639-4713-8423-4ea4925ef6d1",
   "metadata": {},
   "source": [
    "#### Create the Chain using the different components"
   ]
  },
  {
   "cell_type": "code",
   "execution_count": 38,
   "id": "3d7998b5-4373-4b70-bd81-9617f7ff6bf1",
   "metadata": {
    "tags": []
   },
   "outputs": [],
   "source": [
    "# Verbose mode is intentionally set to True so you can see the prompt and the history from the buffer memory\n",
    "conversation = ConversationChain(llm=llm,\n",
    "                                 prompt=PROMPT,\n",
    "                                 verbose=False,\n",
    "                                 memory=memory,\n",
    "                                )"
   ]
  },
  {
   "cell_type": "markdown",
   "id": "969484f2-1f55-4021-a995-1d529cf9cc54",
   "metadata": {},
   "source": [
    "#### Let's talk..."
   ]
  },
  {
   "cell_type": "code",
   "execution_count": 42,
   "id": "ee09847d-9ff7-4181-ad11-96186bf0a322",
   "metadata": {
    "tags": []
   },
   "outputs": [
    {
     "name": "stdout",
     "output_type": "stream",
     "text": [
      "AI: {\n",
      "  \"chatSummary\": {\n",
      "    \"customerNumber\": \"12345678\",\n",
      "    \"dateOfBirth\": \"2024-11-20\",\n",
      "    \"overallSentiment\": \"Neutral\",\n",
      "    \"summary\": [\n",
      "      \"Customer asked for FD interest rates for a 3 year period and received options for 36-month CD and 60-month CD with respective APYs.\",\n",
      "      \"Customer then asked for home loan interest rates for a 25 year period and received the interest rate range for a 30-year fixed-rate mortgage.\",\n",
      "      \"Customer requested to be connected to an agent and provided their customer number and date of birth.\"\n",
      "    ]\n",
      "  }\n",
      "}"
     ]
    }
   ],
   "source": [
    "first_input = \"give output in valid json format.  below the chat between bot and customer . response should not include any text outside of json format . nothing before json and after json response. here is the json output format: {\\\"chatSummary\\\": { \\\"customerNumber\\\":\\\"<customer Number>\\\", \\\"dateOfBirth\\\":\\\"<customer data of birth>\\\", \\\"overallSentiment\\\":\\\"<Positive/Neutral/Negative>\\\", \\\"summary\\\":[\\\"<chat summary in one liner bullet points>\\\"] } }. Here is the conversation history:Customer Says:Hi Can you get me FD interest rates over a period of 3 year time Bot Says:Hi! To get the FD interest rates over a period of 3 years, I'd be happy to help you with that. Based on Vista Finance's current rates, here are the options for a 3-year period: * 36-Month CD: 2.00% APY * 60-Month CD: 2.25% APY Please note that these rates are subject to change and may be updated based on market conditions. You can check our website or contact customer service for the most current rates. If you have any further questions or would like to open a CD account, feel free to ask! For a specific query feel free to chat with a <b><a href=\\\"#\\\" onclick=\\\"handleButtonClick('Connect me to agent')\\\">Live Agent</a></b>.. Customer Says:Good, what is home loan interest rates for 25 years period Bot Says:Good day! I'd be happy to help you with your question. For a 25-year period, the interest rate for a mortgage at Vista Finance would be: * 30-Year Fixed-Rate Mortgage: Interest Rate Range: 5.00% - 6.50% APR Please note that these rates are subject to change and may vary based on individual borrower profiles and market conditions. If you'd like to know more or discuss your options, feel free to contact us through the methods listed in our Contact Details section. For a specific query feel free to chat with a <b><a href=\\\"#\\\" onclick=\\\"handleButtonClick('Connect me to agent')\\\">Live Agent</a></b>.. Customer Says:Connect me to agent Bot Says:Ok, so before I connect to an human agent, i would like to know if you are an existing customer of Vista Banking & Finance. <br> Customer Says:Yes Bot Says:Please Provide your 8 digit Customer Number Customer Says:12345678 Bot Says:Thanks, now last thing, Please give me your date of birth Customer Says:2024-11-20 Bot Says:Connecting to available Agent. Please wait... Bot Says:Connected to an agent: Jane Smith \"\n",
    "conversation.predict(input=first_input);"
   ]
  },
  {
   "cell_type": "code",
   "execution_count": 75,
   "id": "60ed6c44-a016-49bd-8623-f231c5bba5b6",
   "metadata": {
    "tags": []
   },
   "outputs": [
    {
     "name": "stdout",
     "output_type": "stream",
     "text": [
      "Current conversation:\n",
      "Human: give me output in valid json format given below for the chat bot and customer conversation. response should not include any text outside of json format given. nothing before json and after json. here is the output format: {\"chatSummary\": { \"customerNumber\":\"<customer Number>\", \"dateOfBirth\":\"<customer data of birth>\", \"overallSentiment\":\"<Positive/Neutral/Negative>\", \"summary\":[\"<chat summary in one liner bullet points>\"] } }. Here is the conversation history:nullCustomer Says:Hi Can you get me FD interest rates over a period of 3 year time Bot Says:Hi! To get the FD interest rates over a period of 3 years, I'd be happy to help you with that. Based on Vista Finance's current rates, here are the options for a 3-year period: * 36-Month CD: 2.00% APY * 60-Month CD: 2.25% APY Please note that these rates are subject to change and may be updated based on market conditions. You can check our website or contact customer service for the most current rates. If you have any further questions or would like to open a CD account, feel free to ask! For a specific query feel free to chat with a <b><a href=\"#\" onclick=\"handleButtonClick('Connect me to agent')\">Live Agent</a></b>.. Customer Says:Good, what is home loan interest rates for 25 years period Bot Says:Good day! I'd be happy to help you with your question. For a 25-year period, the interest rate for a mortgage at Vista Finance would be: * 30-Year Fixed-Rate Mortgage: Interest Rate Range: 5.00% - 6.50% APR Please note that these rates are subject to change and may vary based on individual borrower profiles and market conditions. If you'd like to know more or discuss your options, feel free to contact us through the methods listed in our Contact Details section. For a specific query feel free to chat with a <b><a href=\"#\" onclick=\"handleButtonClick('Connect me to agent')\">Live Agent</a></b>.. Customer Says:Connect me to agent Bot Says:Ok, so before I connect to an human agent, i would like to know if you are an existing customer of Vista Banking & Finance. <br> Customer Says:Yes Bot Says:Please Provide your 8 digit Customer Number Customer Says:12345678 Bot Says:Thanks, now"
     ]
    }
   ],
   "source": [
    "# This is a follow-up question without context to showcase the conversation memory\n",
    "second_input = \"\"\"Respond strictly in valid JSON format only. Do not include any text outside the JSON. \n",
    "Here is the required format: \n",
    "{\"chatSummary\": { \"customerNumber\":\"<customer Number>\", \"dateOfBirth\":\"<customer data of birth>\", \"overallSentiment\":\"<Positive/Neutral/Negative>\", \"summary\":[\"<chat summary in one liner bullet points>\"] }} \n",
    "Process this conversation history: \n",
    "Customer Says:Hi Can you get me FD interest rates over a period of 3 year time ...\n",
    "\"\"\"\n",
    "conversation.predict(input=second_input);"
   ]
  },
  {
   "cell_type": "markdown",
   "id": "fc7dd8b1-c5a1-41fd-8c7f-61e221360753",
   "metadata": {},
   "source": [
    "### Second example, no verbosity"
   ]
  },
  {
   "cell_type": "code",
   "execution_count": null,
   "id": "842e0ab2-a061-4ebd-af71-7305c54af940",
   "metadata": {
    "tags": []
   },
   "outputs": [],
   "source": [
    "# Verbose mode is intentionally set to True so you can see the prompt and the history from the buffer memory\n",
    "conversation2 = ConversationChain(llm=llm,\n",
    "                                 prompt=PROMPT,\n",
    "                                 verbose=False,\n",
    "                                 memory=memory\n",
    "                                )"
   ]
  },
  {
   "cell_type": "code",
   "execution_count": 96,
   "id": "b60769ba-dd7a-4ac7-911a-3e0abe9e1732",
   "metadata": {
    "tags": []
   },
   "outputs": [],
   "source": [
    "# Let's clear the previous conversation first\n",
    "memory.clear()"
   ]
  },
  {
   "cell_type": "code",
   "execution_count": null,
   "id": "e9113c36-db08-464c-a6a7-e8fdf1068c3b",
   "metadata": {
    "tags": []
   },
   "outputs": [],
   "source": [
    "first_input = \"Can you describe Naples in 100 words?\"\n",
    "conversation2.predict(input=first_input);"
   ]
  },
  {
   "cell_type": "code",
   "execution_count": null,
   "id": "d618b39d-0e45-4147-b7c7-63f9f195c805",
   "metadata": {
    "tags": []
   },
   "outputs": [],
   "source": [
    "# This is a follow-up question without context to showcase the conversation memory\n",
    "second_input = \"Is there a river?\"\n",
    "conversation2.predict(input=second_input);"
   ]
  }
 ],
 "metadata": {
  "kernelspec": {
   "display_name": "Python 3.9",
   "language": "python",
   "name": "python3"
  },
  "language_info": {
   "codemirror_mode": {
    "name": "ipython",
    "version": 3
   },
   "file_extension": ".py",
   "mimetype": "text/x-python",
   "name": "python",
   "nbconvert_exporter": "python",
   "pygments_lexer": "ipython3",
   "version": "3.9.18"
  }
 },
 "nbformat": 4,
 "nbformat_minor": 5
}
